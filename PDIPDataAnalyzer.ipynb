{
 "cells": [
  {
   "cell_type": "code",
   "execution_count": null,
   "metadata": {},
   "outputs": [],
   "source": [
    "# IMPORTS\n",
    "import pandas as pd\n",
    "import numpy as np\n",
    "import matplotlib.pyplot as plt\n",
    "import random\n",
    "import time"
   ]
  },
  {
   "cell_type": "code",
   "execution_count": null,
   "metadata": {},
   "outputs": [],
   "source": [
    "EXCEL_PATH = \"data/data_sample.xlsx\"\n",
    "EXCEL_SHEET = \"Sheet1\"\n",
    "\n",
    "def getDf():\n",
    "    df_raw = pd.read_excel(EXCEL_PATH, EXCEL_SHEET)\n",
    "    return df_raw.loc[df_raw[\"success\"] >= 1]\n",
    "df = getDf()\n",
    "print(df)"
   ]
  },
  {
   "cell_type": "code",
   "execution_count": null,
   "metadata": {},
   "outputs": [],
   "source": [
    "# y2 parameter yang dipisah ke beberapa graph\n",
    "def plotGraph(x, y1, y2):\n",
    "    df = getDf()\n",
    "    y2s = df[y2].unique()\n",
    "    y2s_len = len(y2s)\n",
    "    fig, axes = plt.subplots(nrows=y2s_len, figsize=(10,7))\n",
    "    for i in range(0, y2s_len):\n",
    "        df_y2 = df.loc[df[y2] == y2s[i]]\n",
    "        df_y2.plot(ax=axes[i], kind=\"scatter\", x=x, y=y1)\n",
    "        model = np.poly1d(np.polyfit(df_y2[\"dist\"], df_y2[y1], 20))\n",
    "        polyline = np.linspace(df_y2[x].min(), df_y2[x].max())\n",
    "        axes[i].plot(polyline, model(polyline), color=\"red\", lw=3)\n",
    "        axes[i].set_title(\"rpm = \"+str(y2s[i]))\n",
    "plotGraph(\"dist\", \"omega\", \"theta\")"
   ]
  }
 ],
 "metadata": {
  "language_info": {
   "name": "python"
  },
  "orig_nbformat": 4
 },
 "nbformat": 4,
 "nbformat_minor": 2
}
